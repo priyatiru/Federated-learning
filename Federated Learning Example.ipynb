{
 "cells": [
  {
   "cell_type": "code",
   "execution_count": 1,
   "metadata": {},
   "outputs": [],
   "source": [
    "from Node import Node\n",
    "from util import fetch_minibatch\n",
    "import numpy as np\n",
    "\n",
    "from time import time\n",
    "import matplotlib.pyplot as plt\n",
    "plt.style.use(\"ggplot\")\n",
    "%matplotlib inline"
   ]
  },
  {
   "cell_type": "code",
   "execution_count": 2,
   "metadata": {},
   "outputs": [],
   "source": [
    "from sklearn import datasets\n",
    "iris = datasets.load_iris()\n",
    "X_full = iris.data\n",
    "y_full = np.eye(3)[iris.target]\n",
    "n_features = X_full[0].shape[0]\n",
    "n_classes = y_full[0].shape[0]"
   ]
  },
  {
   "cell_type": "code",
   "execution_count": 3,
   "metadata": {},
   "outputs": [
    {
     "ename": "AttributeError",
     "evalue": "module 'tensorflow.keras.losses' has no attribute 'log_loss'",
     "output_type": "error",
     "traceback": [
      "\u001b[1;31m---------------------------------------------------------------------------\u001b[0m",
      "\u001b[1;31mAttributeError\u001b[0m                            Traceback (most recent call last)",
      "\u001b[1;32m<ipython-input-3-9020e290d722>\u001b[0m in \u001b[0;36m<module>\u001b[1;34m\u001b[0m\n\u001b[0;32m      8\u001b[0m \u001b[1;33m\u001b[0m\u001b[0m\n\u001b[0;32m      9\u001b[0m \u001b[1;32mwith\u001b[0m \u001b[0mtf\u001b[0m\u001b[1;33m.\u001b[0m\u001b[0mcompat\u001b[0m\u001b[1;33m.\u001b[0m\u001b[0mv1\u001b[0m\u001b[1;33m.\u001b[0m\u001b[0mSession\u001b[0m\u001b[1;33m(\u001b[0m\u001b[1;33m)\u001b[0m \u001b[1;32mas\u001b[0m \u001b[0msess\u001b[0m\u001b[1;33m:\u001b[0m\u001b[1;33m\u001b[0m\u001b[1;33m\u001b[0m\u001b[0m\n\u001b[1;32m---> 10\u001b[1;33m     \u001b[0mMaster\u001b[0m \u001b[1;33m=\u001b[0m \u001b[0mNode\u001b[0m\u001b[1;33m(\u001b[0m\u001b[0msess\u001b[0m\u001b[1;33m,\u001b[0m \u001b[0mn_features\u001b[0m\u001b[1;33m,\u001b[0m \u001b[0mn_classes\u001b[0m\u001b[1;33m)\u001b[0m\u001b[1;33m\u001b[0m\u001b[1;33m\u001b[0m\u001b[0m\n\u001b[0m\u001b[0;32m     11\u001b[0m     \u001b[0msess\u001b[0m\u001b[1;33m.\u001b[0m\u001b[0mrun\u001b[0m\u001b[1;33m(\u001b[0m\u001b[0mtf\u001b[0m\u001b[1;33m.\u001b[0m\u001b[0mglobal_variables_initializer\u001b[0m\u001b[1;33m(\u001b[0m\u001b[1;33m)\u001b[0m\u001b[1;33m)\u001b[0m\u001b[1;33m\u001b[0m\u001b[1;33m\u001b[0m\u001b[0m\n\u001b[0;32m     12\u001b[0m \u001b[1;33m\u001b[0m\u001b[0m\n",
      "\u001b[1;32m~\\Desktop\\federated-learning\\Node.py\u001b[0m in \u001b[0;36m__init__\u001b[1;34m(self, sess, n_features, n_classes)\u001b[0m\n\u001b[0;32m     12\u001b[0m         \u001b[0mprobs\u001b[0m \u001b[1;33m=\u001b[0m \u001b[0mtf\u001b[0m\u001b[1;33m.\u001b[0m\u001b[0mnn\u001b[0m\u001b[1;33m.\u001b[0m\u001b[0msoftmax\u001b[0m\u001b[1;33m(\u001b[0m\u001b[0mz1\u001b[0m\u001b[1;33m)\u001b[0m\u001b[1;33m\u001b[0m\u001b[1;33m\u001b[0m\u001b[0m\n\u001b[0;32m     13\u001b[0m \u001b[1;33m\u001b[0m\u001b[0m\n\u001b[1;32m---> 14\u001b[1;33m         \u001b[0mself\u001b[0m\u001b[1;33m.\u001b[0m\u001b[0mloss\u001b[0m \u001b[1;33m=\u001b[0m \u001b[0mtf\u001b[0m\u001b[1;33m.\u001b[0m\u001b[0mkeras\u001b[0m\u001b[1;33m.\u001b[0m\u001b[0mlosses\u001b[0m\u001b[1;33m.\u001b[0m\u001b[0mlog_loss\u001b[0m\u001b[1;33m(\u001b[0m\u001b[0mlabels\u001b[0m\u001b[1;33m=\u001b[0m\u001b[0mself\u001b[0m\u001b[1;33m.\u001b[0m\u001b[0my_\u001b[0m\u001b[1;33m,\u001b[0m \u001b[0mpredictions\u001b[0m\u001b[1;33m=\u001b[0m\u001b[0mprobs\u001b[0m\u001b[1;33m)\u001b[0m\u001b[1;33m\u001b[0m\u001b[1;33m\u001b[0m\u001b[0m\n\u001b[0m\u001b[0;32m     15\u001b[0m         \u001b[0mself\u001b[0m\u001b[1;33m.\u001b[0m\u001b[0mop\u001b[0m \u001b[1;33m=\u001b[0m \u001b[0mtf\u001b[0m\u001b[1;33m.\u001b[0m\u001b[0mtrain\u001b[0m\u001b[1;33m.\u001b[0m\u001b[0mAdamOptimizer\u001b[0m\u001b[1;33m(\u001b[0m\u001b[1;36m0.01\u001b[0m\u001b[1;33m)\u001b[0m\u001b[1;33m.\u001b[0m\u001b[0mminimize\u001b[0m\u001b[1;33m(\u001b[0m\u001b[0mself\u001b[0m\u001b[1;33m.\u001b[0m\u001b[0mloss\u001b[0m\u001b[1;33m)\u001b[0m\u001b[1;33m\u001b[0m\u001b[1;33m\u001b[0m\u001b[0m\n\u001b[0;32m     16\u001b[0m \u001b[1;33m\u001b[0m\u001b[0m\n",
      "\u001b[1;31mAttributeError\u001b[0m: module 'tensorflow.keras.losses' has no attribute 'log_loss'"
     ]
    }
   ],
   "source": [
    "import tensorflow as tf\n",
    "\n",
    "#tf.compat.v1.disable_eager_execution()\n",
    "#sess = tf.compat.v1.Session()\n",
    "server_batch_size = 30\n",
    "\n",
    "X_test, y_test = fetch_minibatch(X_full, y_full, server_batch_size)\n",
    "\n",
    "with tf.compat.v1.Session() as sess:    \n",
    "    Master = Node(sess, n_features, n_classes)\n",
    "    sess.run(tf.global_variables_initializer())\n",
    "        \n",
    "    print(\"untrained accuracy: \", Master.score(X_full, y_full))\n",
    "    \n",
    "    n_epochs = 20\n",
    "    X_server, y_server = fetch_minibatch(X_full, y_full, server_batch_size)\n",
    "    Master.fit(X_server, y_server, n_epochs)\n",
    "    \n",
    "    print(\"accuracy, using updated weights {0:.3f} \".format(Master.score(X_full, y_full)))\n",
    "    \n",
    "    server_w1 = Master.fetch_weights()"
   ]
  },
  {
   "cell_type": "code",
   "execution_count": 5,
   "metadata": {
    "collapsed": true
   },
   "outputs": [],
   "source": [
    "original_server_w1 = server_w1"
   ]
  },
  {
   "cell_type": "code",
   "execution_count": 6,
   "metadata": {},
   "outputs": [
    {
     "name": "stdout",
     "output_type": "stream",
     "text": [
      "round 0 execution time: 3.1388421058654785 accuracy: 0.8999999761581421\n",
      "round 1 execution time: 2.8116440773010254 accuracy: 0.95333331823349\n",
      "round 2 execution time: 2.782147169113159 accuracy: 0.9599999785423279\n",
      "round 3 execution time: 2.7059502601623535 accuracy: 0.9599999785423279\n",
      "round 4 execution time: 2.756247043609619 accuracy: 0.9666666388511658\n",
      "round 5 execution time: 2.7820329666137695 accuracy: 0.9399999976158142\n",
      "round 6 execution time: 2.8027403354644775 accuracy: 0.95333331823349\n",
      "round 7 execution time: 2.7404510974884033 accuracy: 0.6666666865348816\n",
      "round 8 execution time: 2.8029439449310303 accuracy: 0.95333331823349\n",
      "round 9 execution time: 2.7011499404907227 accuracy: 0.6666666865348816\n",
      "completed\n"
     ]
    },
    {
     "data": {
      "text/plain": [
       "[<matplotlib.lines.Line2D at 0x11cc4d978>]"
      ]
     },
     "execution_count": 6,
     "metadata": {},
     "output_type": "execute_result"
    },
    {
     "data": {
      "image/png": "[encoded data removed]",
      "text/plain": [
       "<matplotlib.figure.Figure at 0x11c9ad358>"
      ]
     },
     "metadata": {},
     "output_type": "display_data"
    }
   ],
   "source": [
    "learning_rate = .1\n",
    "n_epochs = 500\n",
    "n_clients = 5\n",
    "client_batch_size = 5\n",
    "n_rounds = 10\n",
    "ls_accuracy = []\n",
    "\n",
    "with tf.Session() as sess:\n",
    "    Worker = Node(sess, n_features, n_classes)\n",
    "    sess.run(tf.global_variables_initializer())\n",
    "    \n",
    "    for r in range(n_rounds):\n",
    "        s = time()\n",
    "        \n",
    "        # each round needs a new average client weights\n",
    "        ls_client_w1 = []\n",
    "        \n",
    "        for client in range(n_clients):\n",
    "\n",
    "            # each client receives the same server weight\n",
    "            client_w1 = server_w1\n",
    "\n",
    "            # each client has their own minibatch\n",
    "            X_client, y_client = fetch_minibatch(X_full, y_full, client_batch_size)\n",
    "            \n",
    "            # calculate term b gradient using (1) server weights and (2) client data\n",
    "            term_b = Worker.fetch_grad(server_w1, X_client, y_client)\n",
    "            \n",
    "            # compute term c gradient using (1) server weights and (2) server data\n",
    "            term_c = Worker.fetch_grad(server_w1, X_server, y_server)\n",
    "\n",
    "            # client parameter updates\n",
    "            for n in range(n_epochs):\n",
    "                # compute term a gradient using (1) client weights and (2) client data\n",
    "                term_a = Worker.fetch_grad(client_w1, X_client, y_client)\n",
    "\n",
    "                # update client weights\n",
    "                client_w1 = client_w1 - learning_rate * (term_a - term_b + term_c)\n",
    "\n",
    "            # track weights for each client\n",
    "            ls_client_w1.append(client_w1)\n",
    "        \n",
    "        # after all clients are accounted for, update server weights each round\n",
    "        server_w1 = np.mean(ls_client_w1, axis=0)\n",
    "        Worker.load(server_w1)\n",
    "        acc = Worker.score(X_full, y_full)\n",
    "        print(\"round {} execution time: {} accuracy: {}\".format(r, time() - s, acc))\n",
    "        ls_accuracy.append(acc)\n",
    "    \n",
    "print(\"completed\")\n",
    "plt.plot(ls_accuracy)"
   ]
  },
  {
   "cell_type": "code",
   "execution_count": null,
   "metadata": {
    "collapsed": true
   },
   "outputs": [],
   "source": [
    "with tf.Session() as sess:    \n",
    "    Master = Client(sess, n_features, n_classes)\n",
    "    sess.run(tf.global_variables_initializer())\n",
    "    \n",
    "    Master.load(original_server_w1)\n",
    "    print(\"untrained accuracy: \", Master.score(X_test, y_test))\n",
    "    Master.load(server_w1)  # use average weights from clients\n",
    "    print(\"accuracy, using updated weights: \", Master.score(X_test, y_test))"
   ]
  }
 ],
 "metadata": {
  "kernelspec": {
   "display_name": "Python 3",
   "language": "python",
   "name": "python3"
  },
  "language_info": {
   "codemirror_mode": {
    "name": "ipython",
    "version": 3
   },
   "file_extension": ".py",
   "mimetype": "text/x-python",
   "name": "python",
   "nbconvert_exporter": "python",
   "pygments_lexer": "ipython3",
   "version": "3.8.4"
  }
 },
 "nbformat": 4,
 "nbformat_minor": 2
}
